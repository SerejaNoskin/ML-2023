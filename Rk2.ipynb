{
 "cells": [
  {
   "cell_type": "code",
   "execution_count": null,
   "id": "16cc4358",
   "metadata": {},
   "outputs": [],
   "source": [
    "Рубежный контроль №2\n",
    "Носкин С.А. ИУ5-63Б\n",
    "Вариант №8\n",
    "Задание. Для заданного набора данных (по Вашему варианту) постройте модели классификации или регрессии (в зависимости от конкретной задачи, рассматриваемой в наборе данных). Для построения моделей используйте методы 1 и 2 (по варианту для Вашей группы). Оцените качество моделей на основе подходящих метрик качества (не менее двух метрик). Какие метрики качества Вы использовали и почему? Какие выводы Вы можете сделать о качестве построенных моделей? Для построения моделей необходимо выполнить требуемую предобработку данных: заполнение пропусков, кодирование категориальных признаков, и т.д.\n",
    "Методы ИУ5-63 - Дерево решений и Случайный лес\n",
    "Набор данных: https://www.kaggle.com/lava18/google-play-store-apps\n",
    "Библиотеки"
   ]
  },
  {
   "cell_type": "code",
   "execution_count": 1,
   "id": "983861d3",
   "metadata": {},
   "outputs": [],
   "source": [
    "import numpy as np\n",
    "import pandas as pd\n",
    "import seaborn as sns\n",
    "import matplotlib.pyplot as plt\n",
    "from sklearn.model_selection import train_test_split\n",
    "from sklearn.preprocessing import LabelEncoder"
   ]
  },
  {
   "cell_type": "code",
   "execution_count": null,
   "id": "b2e15ba4",
   "metadata": {},
   "outputs": [],
   "source": [
    "Загрузка и первичная обработка данных"
   ]
  },
  {
   "cell_type": "code",
   "execution_count": 2,
   "id": "3837c5af",
   "metadata": {},
   "outputs": [
    {
     "data": {
      "text/plain": [
       "(10841, 13)"
      ]
     },
     "execution_count": 2,
     "metadata": {},
     "output_type": "execute_result"
    }
   ],
   "source": [
    "data=pd.read_csv('googleplaystore.csv', sep=\",\")\n",
    "# размер набора данных\n",
    "data.shape"
   ]
  },
  {
   "cell_type": "code",
   "execution_count": 3,
   "id": "e948a5d7",
   "metadata": {},
   "outputs": [
    {
     "data": {
      "text/html": [
       "<div>\n",
       "<style scoped>\n",
       "    .dataframe tbody tr th:only-of-type {\n",
       "        vertical-align: middle;\n",
       "    }\n",
       "\n",
       "    .dataframe tbody tr th {\n",
       "        vertical-align: top;\n",
       "    }\n",
       "\n",
       "    .dataframe thead th {\n",
       "        text-align: right;\n",
       "    }\n",
       "</style>\n",
       "<table border=\"1\" class=\"dataframe\">\n",
       "  <thead>\n",
       "    <tr style=\"text-align: right;\">\n",
       "      <th></th>\n",
       "      <th>App</th>\n",
       "      <th>Category</th>\n",
       "      <th>Rating</th>\n",
       "      <th>Reviews</th>\n",
       "      <th>Size</th>\n",
       "      <th>Installs</th>\n",
       "      <th>Type</th>\n",
       "      <th>Price</th>\n",
       "      <th>Content Rating</th>\n",
       "      <th>Genres</th>\n",
       "      <th>Last Updated</th>\n",
       "      <th>Current Ver</th>\n",
       "      <th>Android Ver</th>\n",
       "    </tr>\n",
       "  </thead>\n",
       "  <tbody>\n",
       "    <tr>\n",
       "      <th>0</th>\n",
       "      <td>Photo Editor &amp; Candy Camera &amp; Grid &amp; ScrapBook</td>\n",
       "      <td>ART_AND_DESIGN</td>\n",
       "      <td>4.1</td>\n",
       "      <td>159</td>\n",
       "      <td>19M</td>\n",
       "      <td>10,000+</td>\n",
       "      <td>Free</td>\n",
       "      <td>0</td>\n",
       "      <td>Everyone</td>\n",
       "      <td>Art &amp; Design</td>\n",
       "      <td>January 7, 2018</td>\n",
       "      <td>1.0.0</td>\n",
       "      <td>4.0.3 and up</td>\n",
       "    </tr>\n",
       "    <tr>\n",
       "      <th>1</th>\n",
       "      <td>Coloring book moana</td>\n",
       "      <td>ART_AND_DESIGN</td>\n",
       "      <td>3.9</td>\n",
       "      <td>967</td>\n",
       "      <td>14M</td>\n",
       "      <td>500,000+</td>\n",
       "      <td>Free</td>\n",
       "      <td>0</td>\n",
       "      <td>Everyone</td>\n",
       "      <td>Art &amp; Design;Pretend Play</td>\n",
       "      <td>January 15, 2018</td>\n",
       "      <td>2.0.0</td>\n",
       "      <td>4.0.3 and up</td>\n",
       "    </tr>\n",
       "    <tr>\n",
       "      <th>2</th>\n",
       "      <td>U Launcher Lite – FREE Live Cool Themes, Hide ...</td>\n",
       "      <td>ART_AND_DESIGN</td>\n",
       "      <td>4.7</td>\n",
       "      <td>87510</td>\n",
       "      <td>8.7M</td>\n",
       "      <td>5,000,000+</td>\n",
       "      <td>Free</td>\n",
       "      <td>0</td>\n",
       "      <td>Everyone</td>\n",
       "      <td>Art &amp; Design</td>\n",
       "      <td>August 1, 2018</td>\n",
       "      <td>1.2.4</td>\n",
       "      <td>4.0.3 and up</td>\n",
       "    </tr>\n",
       "    <tr>\n",
       "      <th>3</th>\n",
       "      <td>Sketch - Draw &amp; Paint</td>\n",
       "      <td>ART_AND_DESIGN</td>\n",
       "      <td>4.5</td>\n",
       "      <td>215644</td>\n",
       "      <td>25M</td>\n",
       "      <td>50,000,000+</td>\n",
       "      <td>Free</td>\n",
       "      <td>0</td>\n",
       "      <td>Teen</td>\n",
       "      <td>Art &amp; Design</td>\n",
       "      <td>June 8, 2018</td>\n",
       "      <td>Varies with device</td>\n",
       "      <td>4.2 and up</td>\n",
       "    </tr>\n",
       "    <tr>\n",
       "      <th>4</th>\n",
       "      <td>Pixel Draw - Number Art Coloring Book</td>\n",
       "      <td>ART_AND_DESIGN</td>\n",
       "      <td>4.3</td>\n",
       "      <td>967</td>\n",
       "      <td>2.8M</td>\n",
       "      <td>100,000+</td>\n",
       "      <td>Free</td>\n",
       "      <td>0</td>\n",
       "      <td>Everyone</td>\n",
       "      <td>Art &amp; Design;Creativity</td>\n",
       "      <td>June 20, 2018</td>\n",
       "      <td>1.1</td>\n",
       "      <td>4.4 and up</td>\n",
       "    </tr>\n",
       "  </tbody>\n",
       "</table>\n",
       "</div>"
      ],
      "text/plain": [
       "                                                 App        Category  Rating  \\\n",
       "0     Photo Editor & Candy Camera & Grid & ScrapBook  ART_AND_DESIGN     4.1   \n",
       "1                                Coloring book moana  ART_AND_DESIGN     3.9   \n",
       "2  U Launcher Lite – FREE Live Cool Themes, Hide ...  ART_AND_DESIGN     4.7   \n",
       "3                              Sketch - Draw & Paint  ART_AND_DESIGN     4.5   \n",
       "4              Pixel Draw - Number Art Coloring Book  ART_AND_DESIGN     4.3   \n",
       "\n",
       "  Reviews  Size     Installs  Type Price Content Rating  \\\n",
       "0     159   19M      10,000+  Free     0       Everyone   \n",
       "1     967   14M     500,000+  Free     0       Everyone   \n",
       "2   87510  8.7M   5,000,000+  Free     0       Everyone   \n",
       "3  215644   25M  50,000,000+  Free     0           Teen   \n",
       "4     967  2.8M     100,000+  Free     0       Everyone   \n",
       "\n",
       "                      Genres      Last Updated         Current Ver  \\\n",
       "0               Art & Design   January 7, 2018               1.0.0   \n",
       "1  Art & Design;Pretend Play  January 15, 2018               2.0.0   \n",
       "2               Art & Design    August 1, 2018               1.2.4   \n",
       "3               Art & Design      June 8, 2018  Varies with device   \n",
       "4    Art & Design;Creativity     June 20, 2018                 1.1   \n",
       "\n",
       "    Android Ver  \n",
       "0  4.0.3 and up  \n",
       "1  4.0.3 and up  \n",
       "2  4.0.3 and up  \n",
       "3    4.2 and up  \n",
       "4    4.4 and up  "
      ]
     },
     "execution_count": 3,
     "metadata": {},
     "output_type": "execute_result"
    }
   ],
   "source": [
    "data.head()"
   ]
  },
  {
   "cell_type": "code",
   "execution_count": 4,
   "id": "250d2f87",
   "metadata": {},
   "outputs": [
    {
     "data": {
      "text/plain": [
       "App                  0\n",
       "Category             0\n",
       "Rating            1474\n",
       "Reviews              0\n",
       "Size                 0\n",
       "Installs             0\n",
       "Type                 1\n",
       "Price                0\n",
       "Content Rating       1\n",
       "Genres               0\n",
       "Last Updated         0\n",
       "Current Ver          8\n",
       "Android Ver          3\n",
       "dtype: int64"
      ]
     },
     "execution_count": 4,
     "metadata": {},
     "output_type": "execute_result"
    }
   ],
   "source": [
    "data.isnull().sum()"
   ]
  },
  {
   "cell_type": "code",
   "execution_count": 5,
   "id": "490f7e05",
   "metadata": {},
   "outputs": [
    {
     "data": {
      "text/plain": [
       "((10841, 13), (9360, 13))"
      ]
     },
     "execution_count": 5,
     "metadata": {},
     "output_type": "execute_result"
    }
   ],
   "source": [
    "data_new = data.dropna(axis=0, how='any')\n",
    "(data.shape, data_new.shape)"
   ]
  },
  {
   "cell_type": "code",
   "execution_count": 6,
   "id": "d61a9edc",
   "metadata": {},
   "outputs": [
    {
     "data": {
      "text/plain": [
       "App                object\n",
       "Category           object\n",
       "Rating            float64\n",
       "Reviews            object\n",
       "Size               object\n",
       "Installs           object\n",
       "Type               object\n",
       "Price              object\n",
       "Content Rating     object\n",
       "Genres             object\n",
       "Last Updated       object\n",
       "Current Ver        object\n",
       "Android Ver        object\n",
       "dtype: object"
      ]
     },
     "execution_count": 6,
     "metadata": {},
     "output_type": "execute_result"
    }
   ],
   "source": [
    "data.dtypes"
   ]
  },
  {
   "cell_type": "code",
   "execution_count": 7,
   "id": "180b4e4d",
   "metadata": {},
   "outputs": [],
   "source": [
    "\n",
    "#Price не нужен потому что, почти все значение 0-ые\n",
    "data.drop(['Current Ver', 'Android Ver', 'Type', 'Genres', 'Last Updated', 'App', 'Content Rating'], axis = 1, inplace = True)"
   ]
  },
  {
   "cell_type": "code",
   "execution_count": 8,
   "id": "6bd0dce5",
   "metadata": {},
   "outputs": [
    {
     "data": {
      "text/plain": [
       "App               0\n",
       "Category          0\n",
       "Rating            0\n",
       "Reviews           0\n",
       "Size              0\n",
       "Installs          0\n",
       "Type              0\n",
       "Price             0\n",
       "Content Rating    0\n",
       "Genres            0\n",
       "Last Updated      0\n",
       "Current Ver       0\n",
       "Android Ver       0\n",
       "dtype: int64"
      ]
     },
     "execution_count": 8,
     "metadata": {},
     "output_type": "execute_result"
    }
   ],
   "source": [
    "data_new.isnull().sum()"
   ]
  },
  {
   "cell_type": "code",
   "execution_count": 9,
   "id": "ff17379c",
   "metadata": {},
   "outputs": [],
   "source": [
    "#Ограничение в 500 элементов\n",
    "parts = np.split(data, [500], axis=0)\n",
    "data_new = parts[0]"
   ]
  },
  {
   "cell_type": "code",
   "execution_count": 10,
   "id": "a44f99ba",
   "metadata": {},
   "outputs": [
    {
     "data": {
      "text/plain": [
       "(500, 6)"
      ]
     },
     "execution_count": 10,
     "metadata": {},
     "output_type": "execute_result"
    }
   ],
   "source": [
    "data_new.shape"
   ]
  },
  {
   "cell_type": "code",
   "execution_count": 11,
   "id": "23b9c0fa",
   "metadata": {},
   "outputs": [
    {
     "name": "stderr",
     "output_type": "stream",
     "text": [
      "C:\\Users\\noski\\AppData\\Local\\Temp\\ipykernel_17816\\3664500281.py:9: FutureWarning: The default value of regex will change from True to False in a future version. In addition, single character regular expressions will *not* be treated as literal strings when regex=True.\n",
      "  data_new['Price'] = data_new.Price.str.replace('$','')\n"
     ]
    }
   ],
   "source": [
    "\n",
    "le = LabelEncoder()\n",
    "le.fit(data_new.Category)\n",
    "data_new['Category'] = le.transform(data_new.Category)\n",
    "data_new\n",
    "data_new['Size'] = data_new['Size'].map(lambda x: str(x)[:-1]) \n",
    "data_new['Installs'] = data_new['Installs'].map(lambda x: str(x)[:-1])\n",
    "data_new['Installs'] = data_new['Installs'].replace(',','', regex=True)\n",
    "data_new['Size'] = data_new['Size'].replace(['Varies with devic'], np.nan)\n",
    "data_new['Price'] = data_new.Price.str.replace('$','')"
   ]
  },
  {
   "cell_type": "code",
   "execution_count": 12,
   "id": "7c1e8985",
   "metadata": {},
   "outputs": [
    {
     "data": {
      "text/plain": [
       "array(['0', '4.99', '3.99', '6.99', '1.49', '2.99', '7.99'], dtype=object)"
      ]
     },
     "execution_count": 12,
     "metadata": {},
     "output_type": "execute_result"
    }
   ],
   "source": [
    "data_new.head()\n",
    "data_new['Price'].unique()"
   ]
  },
  {
   "cell_type": "code",
   "execution_count": 13,
   "id": "82d61e13",
   "metadata": {},
   "outputs": [
    {
     "data": {
      "text/plain": [
       "Category    0\n",
       "Rating      0\n",
       "Reviews     0\n",
       "Size        0\n",
       "Installs    0\n",
       "Price       0\n",
       "dtype: int64"
      ]
     },
     "execution_count": 13,
     "metadata": {},
     "output_type": "execute_result"
    }
   ],
   "source": [
    "\n",
    "data_new = data_new.dropna(axis=0, how='any')\n",
    "data_new.isnull().sum()"
   ]
  },
  {
   "cell_type": "code",
   "execution_count": 14,
   "id": "a46b3bb5",
   "metadata": {},
   "outputs": [
    {
     "data": {
      "text/plain": [
       "array(['159', '967', '87510', '215644', '167', '178', '36815', '13791',\n",
       "       '121', '13880', '8788', '44829', '4326', '1518', '55', '3632',\n",
       "       '27', '194216', '224399', '450', '654', '7699', '118', '192',\n",
       "       '20260', '203', '136', '223', '1120', '227', '5035', '1015', '353',\n",
       "       '564', '8145', '158', '591', '117', '176', '2206', '26', '174531',\n",
       "       '1070', '85', '845', '367', '1598', '284', '129', '542', '10479',\n",
       "       '805', '1403', '3971', '534', '7774', '38846', '2431', '6090',\n",
       "       '295', '190', '52530', '116986', '1379', '271920', '7021', '197',\n",
       "       '737', '3574', '994', '197136', '142', '15168', '2155', '138',\n",
       "       '5414', '348', '250', '3617', '4806', '31433', '5097', '1754',\n",
       "       '2680', '1288', '18900', '49790', '1150', '1739', '2225', '4369',\n",
       "       '8572', '964', '104', '601', '36', '187', '30', '134', '74',\n",
       "       '9315', '75', '38', '26834', '2277', '2280', '184', '9', '364',\n",
       "       '18', '473', '66', '3871', '257', '62', '1857', '4478', '418',\n",
       "       '22486', '1435', '116507', '90468', '860', '363934', '17506',\n",
       "       '1862', '2084', '47303', '85842', '7831', '91615', '4620', '21336',\n",
       "       '26875', '1778', '2709', '527', '1322', '1680', '2739', '1065',\n",
       "       '51269', '30105', '156', '341157', '85185', '1002861', '16589',\n",
       "       '148945', '4458', '62272', '8941', '46353', '30847', '188841',\n",
       "       '4034', '45964', '6903', '31614', '207372', '1225', '380837',\n",
       "       '10600', '74359', '822', '2287', '4162', '14760', '286897',\n",
       "       '103755', '46505', '11442', '10295', '296', '29313', '1802',\n",
       "       '1383', '23175', '5868', '5448', '4159', '20815', '78662', '7149',\n",
       "       '3079', '5800', '16422', '108741', '624', '1661', '308', '5211',\n",
       "       '1058', '1002859', '413', '24005', '57106', '2249', '516', '834',\n",
       "       '1010', '238970', '302', '438', '73', '39', '144', '2181', '93965',\n",
       "       '1446', '12088', '314', '15194', '22551', '29839', '279', '1677',\n",
       "       '757', '115', '125', '9952', '21', '15', '3596', '1006', '5968',\n",
       "       '4895', '125257', '158679', '4187998', '659395', '4785892',\n",
       "       '30209', '36901', '192948', '13698', '20769', '36880', '615381',\n",
       "       '33053', '3648120', '136662', '42370', '2939', '40751', '17712922',\n",
       "       '25021', '27187', '4785988', '122498', '132014', '83239',\n",
       "       '2876500', '28238', '335646', '349384', '37320', '36893', '15880',\n",
       "       '2264916', '42925', '3648480', '17714850', '13100', '55098',\n",
       "       '1133501', '12578', '10965', '190613', '125232', '72065', '27540',\n",
       "       '104990', '177703', '17529', '177263', '237468', '32254', '483565',\n",
       "       '552441', '93825', '15287', '205739', '9498', '4188142', '88427',\n",
       "       '183374', '20901', '122595', '124346', '255', '41420', '29208',\n",
       "       '191032', '57', '2', '285726', '2556', '7779', '61637', '12632',\n",
       "       '48845', '31320', '172460', '4195', '11633', '10212', '37053',\n",
       "       '667', '13202'], dtype=object)"
      ]
     },
     "execution_count": 14,
     "metadata": {},
     "output_type": "execute_result"
    }
   ],
   "source": [
    "data_new['Reviews'].unique()"
   ]
  },
  {
   "cell_type": "code",
   "execution_count": null,
   "id": "19a50b26",
   "metadata": {},
   "outputs": [],
   "source": [
    "Масштабирование данных\n",
    "MinMax масштабирование"
   ]
  },
  {
   "cell_type": "code",
   "execution_count": 15,
   "id": "6cacea35",
   "metadata": {},
   "outputs": [],
   "source": [
    "from sklearn.preprocessing import MinMaxScaler, StandardScaler, Normalizer"
   ]
  },
  {
   "cell_type": "code",
   "execution_count": 16,
   "id": "c68210f9",
   "metadata": {},
   "outputs": [],
   "source": [
    "# Числовые колонки для масштабирования\n",
    "num_cols = ['Rating','Reviews', 'Installs', 'Category', 'Price']\n",
    "scale_cols = num_cols"
   ]
  },
  {
   "cell_type": "code",
   "execution_count": 17,
   "id": "3097b090",
   "metadata": {},
   "outputs": [],
   "source": [
    "sc1 = MinMaxScaler()\n",
    "sc1_data_new = sc1.fit_transform(data_new[scale_cols])"
   ]
  },
  {
   "cell_type": "code",
   "execution_count": 18,
   "id": "71ccf86d",
   "metadata": {},
   "outputs": [
    {
     "name": "stderr",
     "output_type": "stream",
     "text": [
      "C:\\Users\\noski\\AppData\\Local\\Temp\\ipykernel_17816\\3481766874.py:4: SettingWithCopyWarning: \n",
      "A value is trying to be set on a copy of a slice from a DataFrame.\n",
      "Try using .loc[row_indexer,col_indexer] = value instead\n",
      "\n",
      "See the caveats in the documentation: https://pandas.pydata.org/pandas-docs/stable/user_guide/indexing.html#returning-a-view-versus-a-copy\n",
      "  data_new[new_col_name] = sc1_data_new[:,i]\n",
      "C:\\Users\\noski\\AppData\\Local\\Temp\\ipykernel_17816\\3481766874.py:4: SettingWithCopyWarning: \n",
      "A value is trying to be set on a copy of a slice from a DataFrame.\n",
      "Try using .loc[row_indexer,col_indexer] = value instead\n",
      "\n",
      "See the caveats in the documentation: https://pandas.pydata.org/pandas-docs/stable/user_guide/indexing.html#returning-a-view-versus-a-copy\n",
      "  data_new[new_col_name] = sc1_data_new[:,i]\n",
      "C:\\Users\\noski\\AppData\\Local\\Temp\\ipykernel_17816\\3481766874.py:4: SettingWithCopyWarning: \n",
      "A value is trying to be set on a copy of a slice from a DataFrame.\n",
      "Try using .loc[row_indexer,col_indexer] = value instead\n",
      "\n",
      "See the caveats in the documentation: https://pandas.pydata.org/pandas-docs/stable/user_guide/indexing.html#returning-a-view-versus-a-copy\n",
      "  data_new[new_col_name] = sc1_data_new[:,i]\n",
      "C:\\Users\\noski\\AppData\\Local\\Temp\\ipykernel_17816\\3481766874.py:4: SettingWithCopyWarning: \n",
      "A value is trying to be set on a copy of a slice from a DataFrame.\n",
      "Try using .loc[row_indexer,col_indexer] = value instead\n",
      "\n",
      "See the caveats in the documentation: https://pandas.pydata.org/pandas-docs/stable/user_guide/indexing.html#returning-a-view-versus-a-copy\n",
      "  data_new[new_col_name] = sc1_data_new[:,i]\n",
      "C:\\Users\\noski\\AppData\\Local\\Temp\\ipykernel_17816\\3481766874.py:4: SettingWithCopyWarning: \n",
      "A value is trying to be set on a copy of a slice from a DataFrame.\n",
      "Try using .loc[row_indexer,col_indexer] = value instead\n",
      "\n",
      "See the caveats in the documentation: https://pandas.pydata.org/pandas-docs/stable/user_guide/indexing.html#returning-a-view-versus-a-copy\n",
      "  data_new[new_col_name] = sc1_data_new[:,i]\n"
     ]
    }
   ],
   "source": [
    "for i in range(len(scale_cols)):\n",
    "    col = scale_cols[i]\n",
    "    new_col_name = col + '_scaled'\n",
    "    data_new[new_col_name] = sc1_data_new[:,i]"
   ]
  },
  {
   "cell_type": "code",
   "execution_count": 19,
   "id": "8cc0e4ec",
   "metadata": {},
   "outputs": [
    {
     "data": {
      "text/html": [
       "<div>\n",
       "<style scoped>\n",
       "    .dataframe tbody tr th:only-of-type {\n",
       "        vertical-align: middle;\n",
       "    }\n",
       "\n",
       "    .dataframe tbody tr th {\n",
       "        vertical-align: top;\n",
       "    }\n",
       "\n",
       "    .dataframe thead th {\n",
       "        text-align: right;\n",
       "    }\n",
       "</style>\n",
       "<table border=\"1\" class=\"dataframe\">\n",
       "  <thead>\n",
       "    <tr style=\"text-align: right;\">\n",
       "      <th></th>\n",
       "      <th>Category</th>\n",
       "      <th>Rating</th>\n",
       "      <th>Reviews</th>\n",
       "      <th>Size</th>\n",
       "      <th>Installs</th>\n",
       "      <th>Price</th>\n",
       "      <th>Rating_scaled</th>\n",
       "      <th>Reviews_scaled</th>\n",
       "      <th>Installs_scaled</th>\n",
       "      <th>Category_scaled</th>\n",
       "      <th>Price_scaled</th>\n",
       "    </tr>\n",
       "  </thead>\n",
       "  <tbody>\n",
       "    <tr>\n",
       "      <th>0</th>\n",
       "      <td>0</td>\n",
       "      <td>4.1</td>\n",
       "      <td>159</td>\n",
       "      <td>19</td>\n",
       "      <td>10000</td>\n",
       "      <td>0</td>\n",
       "      <td>0.625000</td>\n",
       "      <td>0.000009</td>\n",
       "      <td>0.00002</td>\n",
       "      <td>0.0</td>\n",
       "      <td>0.0</td>\n",
       "    </tr>\n",
       "    <tr>\n",
       "      <th>1</th>\n",
       "      <td>0</td>\n",
       "      <td>3.9</td>\n",
       "      <td>967</td>\n",
       "      <td>14</td>\n",
       "      <td>500000</td>\n",
       "      <td>0</td>\n",
       "      <td>0.541667</td>\n",
       "      <td>0.000054</td>\n",
       "      <td>0.00100</td>\n",
       "      <td>0.0</td>\n",
       "      <td>0.0</td>\n",
       "    </tr>\n",
       "    <tr>\n",
       "      <th>2</th>\n",
       "      <td>0</td>\n",
       "      <td>4.7</td>\n",
       "      <td>87510</td>\n",
       "      <td>8.7</td>\n",
       "      <td>5000000</td>\n",
       "      <td>0</td>\n",
       "      <td>0.875000</td>\n",
       "      <td>0.004940</td>\n",
       "      <td>0.01000</td>\n",
       "      <td>0.0</td>\n",
       "      <td>0.0</td>\n",
       "    </tr>\n",
       "    <tr>\n",
       "      <th>3</th>\n",
       "      <td>0</td>\n",
       "      <td>4.5</td>\n",
       "      <td>215644</td>\n",
       "      <td>25</td>\n",
       "      <td>50000000</td>\n",
       "      <td>0</td>\n",
       "      <td>0.791667</td>\n",
       "      <td>0.012173</td>\n",
       "      <td>0.10000</td>\n",
       "      <td>0.0</td>\n",
       "      <td>0.0</td>\n",
       "    </tr>\n",
       "    <tr>\n",
       "      <th>4</th>\n",
       "      <td>0</td>\n",
       "      <td>4.3</td>\n",
       "      <td>967</td>\n",
       "      <td>2.8</td>\n",
       "      <td>100000</td>\n",
       "      <td>0</td>\n",
       "      <td>0.708333</td>\n",
       "      <td>0.000054</td>\n",
       "      <td>0.00020</td>\n",
       "      <td>0.0</td>\n",
       "      <td>0.0</td>\n",
       "    </tr>\n",
       "  </tbody>\n",
       "</table>\n",
       "</div>"
      ],
      "text/plain": [
       "   Category  Rating Reviews Size  Installs Price  Rating_scaled  \\\n",
       "0         0     4.1     159   19     10000     0       0.625000   \n",
       "1         0     3.9     967   14    500000     0       0.541667   \n",
       "2         0     4.7   87510  8.7   5000000     0       0.875000   \n",
       "3         0     4.5  215644   25  50000000     0       0.791667   \n",
       "4         0     4.3     967  2.8    100000     0       0.708333   \n",
       "\n",
       "   Reviews_scaled  Installs_scaled  Category_scaled  Price_scaled  \n",
       "0        0.000009          0.00002              0.0           0.0  \n",
       "1        0.000054          0.00100              0.0           0.0  \n",
       "2        0.004940          0.01000              0.0           0.0  \n",
       "3        0.012173          0.10000              0.0           0.0  \n",
       "4        0.000054          0.00020              0.0           0.0  "
      ]
     },
     "execution_count": 19,
     "metadata": {},
     "output_type": "execute_result"
    }
   ],
   "source": [
    "data_new.head()"
   ]
  },
  {
   "cell_type": "code",
   "execution_count": 20,
   "id": "dfecb90e",
   "metadata": {},
   "outputs": [
    {
     "data": {
      "image/png": "[encoded data removed]",
      "text/plain": [
       "<Figure size 800x300 with 2 Axes>"
      ]
     },
     "metadata": {},
     "output_type": "display_data"
    },
    {
     "data": {
      "image/png": "[encoded data removed]",
      "text/plain": [
       "<Figure size 800x300 with 2 Axes>"
      ]
     },
     "metadata": {},
     "output_type": "display_data"
    },
    {
     "data": {
      "image/png": "[encoded data removed]",
      "text/plain": [
       "<Figure size 800x300 with 2 Axes>"
      ]
     },
     "metadata": {},
     "output_type": "display_data"
    },
    {
     "data": {
      "image/png": "[encoded data removed]",
      "text/plain": [
       "<Figure size 800x300 with 2 Axes>"
      ]
     },
     "metadata": {},
     "output_type": "display_data"
    },
    {
     "data": {
      "image/png": "[encoded data removed]",
      "text/plain": [
       "<Figure size 800x300 with 2 Axes>"
      ]
     },
     "metadata": {},
     "output_type": "display_data"
    }
   ],
   "source": [
    "for col in scale_cols:\n",
    "    col_scaled = col + '_scaled'\n",
    "\n",
    "    fig, ax = plt.subplots(1, 2, figsize=(8,3))\n",
    "    ax[0].hist(data_new[col], 50)\n",
    "    ax[1].hist(data_new[col_scaled], 50)\n",
    "    ax[0].title.set_text(col)\n",
    "    ax[1].title.set_text(col_scaled)\n",
    "    plt.show()"
   ]
  },
  {
   "cell_type": "code",
   "execution_count": 21,
   "id": "ffce1039",
   "metadata": {},
   "outputs": [
    {
     "name": "stderr",
     "output_type": "stream",
     "text": [
      "C:\\Users\\noski\\AppData\\Local\\Temp\\ipykernel_17816\\3316103338.py:1: SettingWithCopyWarning: \n",
      "A value is trying to be set on a copy of a slice from a DataFrame\n",
      "\n",
      "See the caveats in the documentation: https://pandas.pydata.org/pandas-docs/stable/user_guide/indexing.html#returning-a-view-versus-a-copy\n",
      "  data_new.drop(['Rating', 'Reviews', 'Installs', 'Category', 'Price'], axis = 1, inplace = True)\n"
     ]
    }
   ],
   "source": [
    "\n",
    "data_new.drop(['Rating', 'Reviews', 'Installs', 'Category', 'Price'], axis = 1, inplace = True)"
   ]
  },
  {
   "cell_type": "code",
   "execution_count": 22,
   "id": "ab14a775",
   "metadata": {},
   "outputs": [
    {
     "name": "stdout",
     "output_type": "stream",
     "text": [
      "Входные данные:\n",
      "\n",
      "   Size  Reviews_scaled  Installs_scaled  Category_scaled  Price_scaled\n",
      "0   19        0.000009          0.00002              0.0           0.0\n",
      "1   14        0.000054          0.00100              0.0           0.0\n",
      "2  8.7        0.004940          0.01000              0.0           0.0\n",
      "3   25        0.012173          0.10000              0.0           0.0\n",
      "4  2.8        0.000054          0.00020              0.0           0.0 \n",
      "\n",
      "Выходные данные:\n",
      "\n",
      " 0    0.625000\n",
      "1    0.541667\n",
      "2    0.875000\n",
      "3    0.791667\n",
      "4    0.708333\n",
      "Name: Rating_scaled, dtype: float64\n"
     ]
    }
   ],
   "source": [
    "\n",
    "X = data_new.drop(['Rating_scaled'], axis = 1)\n",
    "Y = data_new.Rating_scaled\n",
    "print('Входные данные:\\n\\n', X.head(), '\\n\\nВыходные данные:\\n\\n', Y.head())"
   ]
  },
  {
   "cell_type": "code",
   "execution_count": 23,
   "id": "3e701d80",
   "metadata": {},
   "outputs": [
    {
     "name": "stdout",
     "output_type": "stream",
     "text": [
      "Входные параметры обучающей выборки:\n",
      "\n",
      "     Size  Reviews_scaled  Installs_scaled  Category_scaled  Price_scaled\n",
      "48   7.9        0.000048           0.0002         0.000000           0.0\n",
      "270   26        0.000102           0.0002         0.571429           0.0\n",
      "281  8.6        0.000327           0.0002         0.571429           0.0\n",
      "302   15        0.000047           0.0001         0.714286           0.0\n",
      "197  3.9        0.000252           0.0010         0.571429           0.0 \n",
      "\n",
      "Входные параметры тестовой выборки:\n",
      "\n",
      "     Size  Reviews_scaled  Installs_scaled  Category_scaled  Price_scaled\n",
      "58   201        0.000079           0.0002         0.142857           0.0\n",
      "56   5.6        0.000045           0.0001         0.142857           0.0\n",
      "387   25        0.007452           0.0200         0.857143           0.0\n",
      "379   61        0.001412           0.0100         0.857143           0.0\n",
      "267   20        0.001655           0.0100         0.571429           0.0 \n",
      "\n",
      "Выходные параметры обучающей выборки:\n",
      "\n",
      " 48     0.708333\n",
      "270    0.625000\n",
      "281    0.833333\n",
      "302    0.541667\n",
      "197    0.791667\n",
      "Name: Rating_scaled, dtype: float64 \n",
      "\n",
      "Выходные параметры тестовой выборки:\n",
      "\n",
      " 58     0.583333\n",
      "56     0.750000\n",
      "387    0.625000\n",
      "379    0.458333\n",
      "267    0.708333\n",
      "Name: Rating_scaled, dtype: float64\n"
     ]
    }
   ],
   "source": [
    "X_train,  X_test,  Y_train,  Y_test = train_test_split(X,  Y, random_state = 0, test_size = 0.30)\n",
    "print('Входные параметры обучающей выборки:\\n\\n',X_train.head(), \\\n",
    "      '\\n\\nВходные параметры тестовой выборки:\\n\\n', X_test.head(), \\\n",
    "      '\\n\\nВыходные параметры обучающей выборки:\\n\\n', Y_train.head(), \\\n",
    "      '\\n\\nВыходные параметры тестовой выборки:\\n\\n', Y_test.head())"
   ]
  },
  {
   "cell_type": "code",
   "execution_count": null,
   "id": "cae0937b",
   "metadata": {},
   "outputs": [],
   "source": [
    "Модель \"Дерево решений\""
   ]
  },
  {
   "cell_type": "code",
   "execution_count": 24,
   "id": "3695f731",
   "metadata": {},
   "outputs": [],
   "source": [
    "from sklearn.tree import DecisionTreeRegressor"
   ]
  },
  {
   "cell_type": "code",
   "execution_count": 25,
   "id": "1e51f0e7",
   "metadata": {},
   "outputs": [
    {
     "name": "stderr",
     "output_type": "stream",
     "text": [
      "C:\\Users\\noski\\AppData\\Local\\Temp\\ipykernel_17816\\1680488691.py:1: SettingWithCopyWarning: \n",
      "A value is trying to be set on a copy of a slice from a DataFrame.\n",
      "Try using .loc[row_indexer,col_indexer] = value instead\n",
      "\n",
      "See the caveats in the documentation: https://pandas.pydata.org/pandas-docs/stable/user_guide/indexing.html#returning-a-view-versus-a-copy\n",
      "  data_new['Size'] = data_new['Size'].replace(['Varies with devic'], np.nan)\n"
     ]
    }
   ],
   "source": [
    "data_new['Size'] = data_new['Size'].replace(['Varies with devic'], np.nan)"
   ]
  },
  {
   "cell_type": "code",
   "execution_count": 26,
   "id": "71abb52e",
   "metadata": {},
   "outputs": [
    {
     "data": {
      "text/plain": [
       "Size               0\n",
       "Rating_scaled      0\n",
       "Reviews_scaled     0\n",
       "Installs_scaled    0\n",
       "Category_scaled    0\n",
       "Price_scaled       0\n",
       "dtype: int64"
      ]
     },
     "execution_count": 26,
     "metadata": {},
     "output_type": "execute_result"
    }
   ],
   "source": [
    "data_new.isnull().sum()"
   ]
  },
  {
   "cell_type": "code",
   "execution_count": 27,
   "id": "351dbb7d",
   "metadata": {},
   "outputs": [],
   "source": [
    "dtc = DecisionTreeRegressor(random_state=1).fit(X_train, Y_train)\n",
    "data_test_predicted_dtc = dtc.predict(X_test)"
   ]
  },
  {
   "cell_type": "code",
   "execution_count": null,
   "id": "b9e5a945",
   "metadata": {},
   "outputs": [],
   "source": [
    "Модель \"Случайный лес\""
   ]
  },
  {
   "cell_type": "code",
   "execution_count": 28,
   "id": "4a1e2a5b",
   "metadata": {},
   "outputs": [],
   "source": [
    "\n",
    "from sklearn.ensemble import RandomForestRegressor"
   ]
  },
  {
   "cell_type": "code",
   "execution_count": 29,
   "id": "3670cbf6",
   "metadata": {},
   "outputs": [],
   "source": [
    "RF = RandomForestRegressor(random_state=1).fit(X_train, Y_train)\n",
    "data_test_predicted_rf = RF.predict(X_test)"
   ]
  },
  {
   "cell_type": "code",
   "execution_count": 30,
   "id": "163d7030",
   "metadata": {},
   "outputs": [],
   "source": [
    "\n",
    "from sklearn.metrics import mean_squared_error, r2_score"
   ]
  },
  {
   "cell_type": "code",
   "execution_count": null,
   "id": "6ce319a9",
   "metadata": {},
   "outputs": [],
   "source": [
    "Оценка качества моделей:\n",
    "В качестве метрик для оценки качества моделей я использую Mean squared error (средняя квадратичная ошибка), как наиболее часто используемую метрику для оценки качества регрессии, и метрику \n",
    " (коэффициент детерминации), потому что эта метрика является нормированной."
   ]
  },
  {
   "cell_type": "code",
   "execution_count": 31,
   "id": "2720a520",
   "metadata": {},
   "outputs": [
    {
     "name": "stdout",
     "output_type": "stream",
     "text": [
      "Метрика MSE:\n",
      "Дерево решений: 0.03439882897603485\n",
      "Случайный лес: 0.018648308142701533\n"
     ]
    }
   ],
   "source": [
    "#Mean squared error - средняя квадратичная ошибка\n",
    "print('Метрика MSE:\\nДерево решений: {}\\nСлучайный лес: {}'.format(mean_squared_error(Y_test, data_test_predicted_dtc), mean_squared_error(Y_test, data_test_predicted_rf)))\n"
   ]
  },
  {
   "cell_type": "code",
   "execution_count": 32,
   "id": "1724fee1",
   "metadata": {},
   "outputs": [
    {
     "name": "stdout",
     "output_type": "stream",
     "text": [
      "Метрика R²:\n",
      "Дерево решений: -0.6883599790328916\n",
      "Случайный лес: 0.08470555300746929\n"
     ]
    }
   ],
   "source": [
    "# 4) Метрика R2 или коэффициент детерминации\n",
    "print('Метрика R\\u00B2:\\nДерево решений: {}\\nСлучайный лес: {}'.format(r2_score(Y_test, data_test_predicted_dtc), r2_score(Y_test, data_test_predicted_rf)))"
   ]
  },
  {
   "cell_type": "code",
   "execution_count": null,
   "id": "c2b934fb",
   "metadata": {},
   "outputs": [],
   "source": [
    "Вывод\n",
    "Исходя из оценки качества построенных моделей можно увидеть, что набор данных не подоходит для данных методов, потому что выборка значений слишком маленькая, например в Price из 500 значений 480 - это нули, из-за этого не получается сделать возможным нормальное масштабирование."
   ]
  }
 ],
 "metadata": {
  "kernelspec": {
   "display_name": "Python 3 (ipykernel)",
   "language": "python",
   "name": "python3"
  },
  "language_info": {
   "codemirror_mode": {
    "name": "ipython",
    "version": 3
   },
   "file_extension": ".py",
   "mimetype": "text/x-python",
   "name": "python",
   "nbconvert_exporter": "python",
   "pygments_lexer": "ipython3",
   "version": "3.11.1"
  }
 },
 "nbformat": 4,
 "nbformat_minor": 5
}
